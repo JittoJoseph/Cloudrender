{
  "cells": [
    {
      "cell_type": "markdown",
      "metadata": {
        "id": "view-in-github",
        "colab_type": "text"
      },
      "source": [
        "<a href=\"https://colab.research.google.com/github/JittoJoseph/Cloudrender/blob/main/Copy_of_blender_render.ipynb\" target=\"_parent\"><img src=\"https://colab.research.google.com/assets/colab-badge.svg\" alt=\"Open In Colab\"/></a>"
      ]
    },
    {
      "cell_type": "markdown",
      "metadata": {
        "id": "6EYxUEsyGlkw"
      },
      "source": [
        "# Setup\n",
        "**Make sure to read the instructions carefully!**\n",
        "\n",
        "If you have other resources used in the Blender project and chose to *make all paths relative*, pack all of them into a zip archive. Alternatively, you can *pack all external file*.\n",
        "\n",
        "* `blender_version` : Version of blender used to render the scene.\n",
        "* `blend_file_path` : Path to the blend file after unpacking the zip archive. If blend file is used, this is automatically ignored.\n",
        "___\n",
        "* `upload_type` : Select the type of upload method. `gdrive_relative` pulls everything from the folder specified.\n",
        "* `drive_path` : Path to your blend/zip file relative to the root of your Google Drive if `google_drive` is selected. Must  state the file and its extension (.zip/.blend) **unless** `gdrive_relative` is selected.\n",
        "* `url_blend` : Specify the URL to the blend/zip file if `url` is selected.\n",
        "___\n",
        "* `animation` : Specify whether animation or still image is rendered. If **still image** is used, put the frame number in `start_frame`.\n",
        "* `start_frame, end_frame` : Specify the start and end frame for animation. You may put same value such as zero for both input to set the default frame in the blend file.\n",
        "___\n",
        "* `download_type` : Select the type of download method. `gdrive_direct` enables the frames to be outputted directly to Google Drive (zipping will be disabled).\n",
        "* `output_name` : Name of the output frames, **do NOT include .blend!** (## for frame number)\n",
        "* `zip_files` : Archive multiple animation frames automatically into a zip file.\n",
        "* `drive_output_path` : Path to your frames/zip file in Google Drive.\n",
        "___\n",
        "* `gpu_enabled, cpu_enabled` : Toggle GPU and CPU for rendering. CPU might give a slight boost in rendering time but may varies depend on the project.\n",
        "* `optix_enable` : Enable OptiX which may boost performance, may be incompatible depending on the version of blender, project and GPU allocated\n",
        "\n",
        "After you are done, go to Runtime > Run All (Ctrl + F9) and upload your files or have Google Drive authorised below. See the [GitHub repo](https://github.com/syn73/blender-colab) for more information."
      ]
    },
    {
      "cell_type": "code",
      "execution_count": 13,
      "metadata": {
        "id": "8dFNjYGTgNjR"
      },
      "outputs": [],
      "source": [
        "blender_version = '3.3.0' #@param ['2.79b', '2.80rc3', '2.81a', '2.82a', '2.83.20', '2.90.1', '2.91.2', '2.92.0', '2.93.10', '3.0.1', '3.1.2', '3.2.2', '3.3.0'] {allow-input: false}\n",
        "blend_file_path = 'path/to/file.blend' #@param {type: 'string'}\n",
        "#@markdown ---\n",
        "upload_type = 'google_drive' #@param ['direct', 'google_drive', 'url', 'gdrive_relative'] {allow-input: false}\n",
        "drive_path = 'Blender/Project/Computer.blend' #@param {type: 'string'}\n",
        "url_blend = '' #@param {type: 'string'}\n",
        "#@markdown ---\n",
        "animation = False #@param {type: 'boolean'}\n",
        "start_frame =  1#@param {type: 'integer'}\n",
        "end_frame =  1#@param {type: 'integer'}\n",
        "#@markdown ---\n",
        "download_type = 'google_drive' #@param ['direct', 'google_drive', 'gdrive_direct'] {allow-input: false}\n",
        "output_name = 'cloud_##.png' #@param {type: 'string'}\n",
        "zip_files = False #@param {type: 'boolean'}\n",
        "drive_output_path = 'Blender/Renders' #@param {type: 'string'}\n",
        "#@markdown ---\n",
        "gpu_enabled = True #@param {type:\"boolean\"}\n",
        "optix_enabled = False #@param {type:\"boolean\"}\n",
        "cpu_enabled = False #@param {type:\"boolean\"}"
      ]
    },
    {
      "cell_type": "code",
      "execution_count": 14,
      "metadata": {
        "id": "XQ0cynSzSYDd",
        "colab": {
          "base_uri": "https://localhost:8080/"
        },
        "outputId": "8f850163-4102-4914-e559-cf2f33d767e2"
      },
      "outputs": [
        {
          "output_type": "stream",
          "name": "stdout",
          "text": [
            "/content\n",
            "Current GPU: Tesla T4\n"
          ]
        }
      ],
      "source": [
        "%cd /content\n",
        "\n",
        "gpu = !nvidia-smi --query-gpu=gpu_name --format=csv,noheader\n",
        "print(\"Current GPU: \" + gpu[0])\n",
        "\n",
        "if gpu[0] == \"Tesla K80\" and optix_enabled:\n",
        "  print(\"OptiX disabled because of unsupported GPU\")\n",
        "  optix_enabled = False"
      ]
    },
    {
      "cell_type": "code",
      "execution_count": 3,
      "metadata": {
        "id": "pQboAtzI0Zc8",
        "colab": {
          "base_uri": "https://localhost:8080/"
        },
        "outputId": "5893feff-e124-405b-edb0-9620d96e62b1"
      },
      "outputs": [
        {
          "output_type": "stream",
          "name": "stdout",
          "text": [
            "Reading package lists... Done\n",
            "Building dependency tree       \n",
            "Reading state information... Done\n",
            "The following package was automatically installed and is no longer required:\n",
            "  libnvidia-common-460\n",
            "Use 'apt autoremove' to remove it.\n",
            "The following packages will be REMOVED:\n",
            "  google-perftools libgoogle-perftools4 libtcmalloc-minimal4\n",
            "0 upgraded, 0 newly installed, 3 to remove and 5 not upgraded.\n",
            "After this operation, 2,187 kB disk space will be freed.\n",
            "(Reading database ... 123991 files and directories currently installed.)\n",
            "Removing google-perftools (2.5-2.2ubuntu3) ...\n",
            "Removing libgoogle-perftools4 (2.5-2.2ubuntu3) ...\n",
            "Removing libtcmalloc-minimal4 (2.5-2.2ubuntu3) ...\n",
            "Processing triggers for man-db (2.8.3-2ubuntu0.1) ...\n",
            "Processing triggers for libc-bin (2.27-3ubuntu1.6) ...\n",
            "Reading package lists... Done\n",
            "Building dependency tree       \n",
            "Reading state information... Done\n",
            "The following package was automatically installed and is no longer required:\n",
            "  libnvidia-common-460\n",
            "Use 'apt autoremove' to remove it.\n",
            "The following NEW packages will be installed:\n",
            "  libtcmalloc-minimal4\n",
            "0 upgraded, 1 newly installed, 0 to remove and 5 not upgraded.\n",
            "Need to get 91.6 kB of archives.\n",
            "After this operation, 380 kB of additional disk space will be used.\n",
            "Get:1 http://archive.ubuntu.com/ubuntu bionic/main amd64 libtcmalloc-minimal4 amd64 2.5-2.2ubuntu3 [91.6 kB]\n",
            "Fetched 91.6 kB in 0s (213 kB/s)\n",
            "Selecting previously unselected package libtcmalloc-minimal4.\n",
            "(Reading database ... 123917 files and directories currently installed.)\n",
            "Preparing to unpack .../libtcmalloc-minimal4_2.5-2.2ubuntu3_amd64.deb ...\n",
            "Unpacking libtcmalloc-minimal4 (2.5-2.2ubuntu3) ...\n",
            "Setting up libtcmalloc-minimal4 (2.5-2.2ubuntu3) ...\n",
            "Processing triggers for libc-bin (2.27-3ubuntu1.6) ...\n"
          ]
        }
      ],
      "source": [
        "import os\n",
        "\n",
        "os.environ[\"LD_PRELOAD\"] = \"\"\n",
        "\n",
        "!apt remove libtcmalloc-minimal4\n",
        "!apt install libtcmalloc-minimal4\n",
        "\n",
        "os.environ[\"LD_PRELOAD\"] = \"/usr/lib/x86_64-linux-gnu/libtcmalloc_minimal.so.4.3.0\""
      ]
    },
    {
      "cell_type": "code",
      "execution_count": 4,
      "metadata": {
        "id": "QRzNmiHN8Xr0",
        "colab": {
          "base_uri": "https://localhost:8080/"
        },
        "outputId": "91071ee8-ecdd-418e-ca1f-b7817dd6645d"
      },
      "outputs": [
        {
          "output_type": "stream",
          "name": "stdout",
          "text": [
            "Mounted at /drive\n"
          ]
        }
      ],
      "source": [
        "import shutil\n",
        "from google.colab import files, drive\n",
        "uploaded_filename = \"\"\n",
        "\n",
        "if upload_type == 'google_drive' or upload_type == 'gdrive_relative' or download_type == 'google_drive' or download_type == 'gdrive_direct':\n",
        "    drive.mount('/drive')\n",
        "\n",
        "if upload_type == 'direct':\n",
        "    uploaded = files.upload()\n",
        "    for fn in uploaded.keys():\n",
        "        uploaded_filename = fn\n",
        "elif upload_type == 'url':\n",
        "    !wget -nc $url_blend\n",
        "    uploaded_filename = os.path.basename(url_blend)\n",
        "elif upload_type == 'google_drive':\n",
        "    shutil.copy('/drive/My Drive/' + drive_path, '.')\n",
        "    uploaded_filename = os.path.basename(drive_path)"
      ]
    },
    {
      "cell_type": "code",
      "execution_count": 15,
      "metadata": {
        "id": "KowqWtLzgSLw"
      },
      "outputs": [],
      "source": [
        "!rm -r render\n",
        "!mkdir render\n",
        "\n",
        "if upload_type == 'gdrive_relative':\n",
        "    if not drive_path.endswith('/'):\n",
        "        drive_path += '/'\n",
        "    !cp -r '/drive/My Drive/{drive_path}.' 'render/'\n",
        "elif uploaded_filename.lower().endswith('.zip'):\n",
        "    !unzip -o $uploaded_filename -d 'render/'\n",
        "elif uploaded_filename.lower().endswith('.blend'):\n",
        "    shutil.copy(uploaded_filename, 'render/')\n",
        "    blend_file_path = uploaded_filename\n",
        "else:\n",
        "    raise SystemExit(\"Invalid file extension, only .blend and .zip can be uploaded.\")"
      ]
    },
    {
      "cell_type": "code",
      "execution_count": 6,
      "metadata": {
        "id": "GPJ9fmoB6PWM",
        "colab": {
          "base_uri": "https://localhost:8080/"
        },
        "outputId": "14013cb8-ca3c-4346-cac6-7265247b426d"
      },
      "outputs": [
        {
          "output_type": "stream",
          "name": "stdout",
          "text": [
            "--2022-11-16 01:35:35--  https://ftp.nluug.nl/pub/graphics/blender/release/Blender3.3/blender-3.3.0-linux-x64.tar.xz\n",
            "Resolving ftp.nluug.nl (ftp.nluug.nl)... 145.220.21.40, 2001:67c:6ec:221:145:220:21:40\n",
            "Connecting to ftp.nluug.nl (ftp.nluug.nl)|145.220.21.40|:443... connected.\n",
            "HTTP request sent, awaiting response... 200 OK\n",
            "Length: 204170180 (195M) [application/x-tar]\n",
            "Saving to: ‘blender-3.3.0-linux-x64.tar.xz’\n",
            "\n",
            "blender-3.3.0-linux 100%[===================>] 194.71M  29.0MB/s    in 6.7s    \n",
            "\n",
            "2022-11-16 01:35:42 (29.0 MB/s) - ‘blender-3.3.0-linux-x64.tar.xz’ saved [204170180/204170180]\n",
            "\n"
          ]
        }
      ],
      "source": [
        "blender_url_dict = {'2.79b'   : \"https://ftp.nluug.nl/pub/graphics/blender/release/Blender2.79/blender-2.79b-linux-glibc219-x86_64.tar.bz2\",\n",
        "                    '2.80rc3' : \"https://ftp.nluug.nl/pub/graphics/blender/release/Blender2.80/blender-2.80rc3-linux-glibc217-x86_64.tar.bz2\",\n",
        "                    '2.81a'   : \"https://ftp.nluug.nl/pub/graphics/blender/release/Blender2.81/blender-2.81a-linux-glibc217-x86_64.tar.bz2\",\n",
        "                    '2.82a'   : \"https://ftp.nluug.nl/pub/graphics/blender/release/Blender2.82/blender-2.82a-linux64.tar.xz\",\n",
        "                    '2.83.20' : \"https://ftp.nluug.nl/pub/graphics/blender/release/Blender2.83/blender-2.83.20-linux-x64.tar.xz\",\n",
        "                    '2.90.1'  : \"https://ftp.nluug.nl/pub/graphics/blender/release/Blender2.90/blender-2.90.1-linux64.tar.xz\",\n",
        "                    '2.91.2'  : \"https://ftp.nluug.nl/pub/graphics/blender/release/Blender2.91/blender-2.91.2-linux64.tar.xz\",\n",
        "                    '2.92.0'  : \"https://ftp.nluug.nl/pub/graphics/blender/release/Blender2.92/blender-2.92.0-linux64.tar.xz\",\n",
        "                    '2.93.10' : \"https://ftp.nluug.nl/pub/graphics/blender/release/Blender2.93/blender-2.93.10-linux-x64.tar.xz\",\n",
        "                    '3.0.1'   : \"https://ftp.nluug.nl/pub/graphics/blender/release/Blender3.0/blender-3.0.1-linux-x64.tar.xz\",\n",
        "                    '3.1.2'   : \"https://ftp.nluug.nl/pub/graphics/blender/release/Blender3.1/blender-3.1.2-linux-x64.tar.xz\",\n",
        "                    '3.2.2'   : \"https://ftp.nluug.nl/pub/graphics/blender/release/Blender3.2/blender-3.2.2-linux-x64.tar.xz\",\n",
        "                    '3.3.0'   : \"https://ftp.nluug.nl/pub/graphics/blender/release/Blender3.3/blender-3.3.0-linux-x64.tar.xz\"}\n",
        "\n",
        "blender_url = blender_url_dict[blender_version]\n",
        "base_url = os.path.basename(blender_url)\n",
        "\n",
        "!mkdir $blender_version\n",
        "!wget -nc $blender_url\n",
        "!tar -xkf $base_url -C ./$blender_version --strip-components=1"
      ]
    },
    {
      "cell_type": "code",
      "execution_count": 16,
      "metadata": {
        "id": "6elYiQrvkUAe"
      },
      "outputs": [],
      "source": [
        "# Enable GPU rendering (or add custom properties here)\n",
        "data = \"import re\\n\"+\\\n",
        "    \"import bpy\\n\"+\\\n",
        "    \"scene = bpy.context.scene\\n\"+\\\n",
        "    \"scene.cycles.device = 'GPU'\\n\"+\\\n",
        "    \"prefs = bpy.context.preferences\\n\"+\\\n",
        "    \"prefs.addons['cycles'].preferences.get_devices()\\n\"+\\\n",
        "    \"cprefs = prefs.addons['cycles'].preferences\\n\"+\\\n",
        "    \"print(cprefs)\\n\"+\\\n",
        "    \"for compute_device_type in ('CUDA', 'OPENCL', 'NONE'):\\n\"+\\\n",
        "    \"    try:\\n\"+\\\n",
        "    \"        cprefs.compute_device_type = compute_device_type\\n\"+\\\n",
        "    \"        print('Device found:',compute_device_type)\\n\"+\\\n",
        "    \"        break\\n\"+\\\n",
        "    \"    except TypeError:\\n\"+\\\n",
        "    \"        pass\\n\"+\\\n",
        "    \"for device in cprefs.devices:\\n\"+\\\n",
        "    \"    if not re.match('intel', device.name, re.I):\\n\"+\\\n",
        "    \"        print('Activating',device)\\n\"+\\\n",
        "    \"        device.use = \"+str(gpu_enabled)+\"\\n\"+\\\n",
        "    \"    else:\\n\"+\\\n",
        "    \"        device.use = \"+str(cpu_enabled)+\"\\n\"\n",
        "with open('setgpu.py', 'w') as f:\n",
        "    f.write(data)\n",
        "\n",
        "renderer = \"CUDA\"\n",
        "if optix_enabled:\n",
        "    print(\"Note: You're currently using OptiX renderer. If an error occurred, the current GPU (example: Tesla K80) is not supported and you need to switch back to Cycles.\")\n",
        "    renderer = \"OPTIX\""
      ]
    },
    {
      "cell_type": "code",
      "execution_count": 17,
      "metadata": {
        "id": "Fpk2w3yM8XqQ",
        "colab": {
          "base_uri": "https://localhost:8080/"
        },
        "outputId": "4a93794b-b90a-4f1a-c592-8d0454f950c9"
      },
      "outputs": [
        {
          "output_type": "stream",
          "name": "stdout",
          "text": [
            "/content\n",
            "/content/3.3.0\n",
            "Blender 3.3.0 (hash 0759f671ce1f built 2022-09-07 00:16:43)\n",
            "Read blend: /content/render/Computer.blend\n",
            "<bpy_struct, CyclesPreferences at 0x7f0c1d7c0128>\n",
            "Device found: CUDA\n",
            "Activating <bpy_struct, CyclesDeviceSettings(\"Tesla T4\") at 0x7f0c1d7cdc08>\n",
            "Fra:1 Mem:11.61M (Peak 15.93M) | Time:00:00.14 | Mem:0.00M, Peak:0.00M | Scene, ViewLayer | Synchronizing object | Plane\n",
            "Fra:1 Mem:11.61M (Peak 15.93M) | Time:00:00.14 | Mem:0.00M, Peak:0.00M | Scene, ViewLayer | Synchronizing object | Text\n",
            "Fra:1 Mem:11.96M (Peak 15.93M) | Time:00:00.14 | Mem:0.00M, Peak:0.00M | Scene, ViewLayer | Initializing\n",
            "Fra:1 Mem:10.69M (Peak 15.93M) | Time:00:00.14 | Mem:0.00M, Peak:0.00M | Scene, ViewLayer | Waiting for render to start\n",
            "Fra:1 Mem:10.70M (Peak 15.93M) | Time:00:00.14 | Mem:0.00M, Peak:0.00M | Scene, ViewLayer | Loading render kernels (may take a few minutes the first time)\n",
            "Fra:1 Mem:10.70M (Peak 28.41M) | Time:00:00.20 | Mem:0.00M, Peak:0.00M | Scene, ViewLayer | Updating Scene\n",
            "Fra:1 Mem:10.70M (Peak 28.41M) | Time:00:00.20 | Mem:0.00M, Peak:0.00M | Scene, ViewLayer | Updating Shaders\n",
            "Fra:1 Mem:11.20M (Peak 28.41M) | Time:00:00.32 | Mem:0.00M, Peak:0.00M | Scene, ViewLayer | Updating Procedurals\n",
            "Fra:1 Mem:11.20M (Peak 28.41M) | Time:00:00.32 | Mem:0.00M, Peak:0.00M | Scene, ViewLayer | Updating Background\n",
            "Fra:1 Mem:11.20M (Peak 28.41M) | Time:00:00.32 | Mem:0.00M, Peak:0.00M | Scene, ViewLayer | Updating Camera\n",
            "Fra:1 Mem:11.20M (Peak 28.41M) | Time:00:00.32 | Mem:0.00M, Peak:0.00M | Scene, ViewLayer | Updating Meshes Flags\n",
            "Fra:1 Mem:11.20M (Peak 28.41M) | Time:00:00.32 | Mem:0.00M, Peak:0.00M | Scene, ViewLayer | Updating Objects\n",
            "Fra:1 Mem:11.20M (Peak 28.41M) | Time:00:00.32 | Mem:0.00M, Peak:0.00M | Scene, ViewLayer | Updating Objects | Copying Transformations to device\n",
            "Fra:1 Mem:11.20M (Peak 28.41M) | Time:00:00.32 | Mem:0.00M, Peak:0.00M | Scene, ViewLayer | Updating Objects | Applying Static Transformations\n",
            "Fra:1 Mem:11.20M (Peak 28.41M) | Time:00:00.32 | Mem:0.00M, Peak:0.00M | Scene, ViewLayer | Updating Particle Systems\n",
            "Fra:1 Mem:11.20M (Peak 28.41M) | Time:00:00.32 | Mem:0.00M, Peak:0.00M | Scene, ViewLayer | Updating Particle Systems | Copying Particles to device\n",
            "Fra:1 Mem:11.20M (Peak 28.41M) | Time:00:00.32 | Mem:0.00M, Peak:0.00M | Scene, ViewLayer | Updating Meshes\n",
            "Fra:1 Mem:11.29M (Peak 28.41M) | Time:00:00.32 | Mem:0.00M, Peak:0.00M | Scene, ViewLayer | Updating Mesh | Computing attributes\n",
            "Fra:1 Mem:11.33M (Peak 28.41M) | Time:00:00.32 | Mem:0.00M, Peak:0.00M | Scene, ViewLayer | Updating Mesh | Copying Attributes to device\n",
            "Fra:1 Mem:11.33M (Peak 28.41M) | Time:00:00.32 | Mem:0.04M, Peak:0.04M | Scene, ViewLayer | Updating Scene BVH | Building\n",
            "Fra:1 Mem:11.33M (Peak 28.41M) | Time:00:00.32 | Mem:0.04M, Peak:0.04M | Scene, ViewLayer | Updating Scene BVH | Building BVH\n",
            "Fra:1 Mem:11.67M (Peak 28.41M) | Time:00:00.32 | Mem:0.04M, Peak:0.04M | Scene, ViewLayer | Updating Scene BVH | Packing BVH triangles and strands\n",
            "Fra:1 Mem:11.69M (Peak 28.41M) | Time:00:00.32 | Mem:0.04M, Peak:0.04M | Scene, ViewLayer | Updating Scene BVH | Packing BVH nodes\n",
            "Fra:1 Mem:11.71M (Peak 28.41M) | Time:00:00.32 | Mem:0.04M, Peak:0.04M | Scene, ViewLayer | Updating Scene BVH | Copying BVH to device\n",
            "Fra:1 Mem:11.71M (Peak 28.41M) | Time:00:00.32 | Mem:0.23M, Peak:0.23M | Scene, ViewLayer | Updating Mesh | Computing normals\n",
            "Fra:1 Mem:12.11M (Peak 28.41M) | Time:00:00.32 | Mem:0.23M, Peak:0.23M | Scene, ViewLayer | Updating Mesh | Copying Mesh to device\n",
            "Fra:1 Mem:12.11M (Peak 28.41M) | Time:00:00.32 | Mem:0.63M, Peak:0.63M | Scene, ViewLayer | Updating Objects Flags\n",
            "Fra:1 Mem:12.11M (Peak 28.41M) | Time:00:00.32 | Mem:0.63M, Peak:0.63M | Scene, ViewLayer | Updating Primitive Offsets\n",
            "Fra:1 Mem:12.11M (Peak 28.41M) | Time:00:00.32 | Mem:0.63M, Peak:0.63M | Scene, ViewLayer | Updating Images\n",
            "Fra:1 Mem:12.11M (Peak 28.41M) | Time:00:00.32 | Mem:0.63M, Peak:0.63M | Scene, ViewLayer | Updating Camera Volume\n",
            "Fra:1 Mem:12.11M (Peak 28.41M) | Time:00:00.32 | Mem:0.63M, Peak:0.63M | Scene, ViewLayer | Updating Lookup Tables\n",
            "Fra:1 Mem:12.11M (Peak 28.41M) | Time:00:00.32 | Mem:0.88M, Peak:0.88M | Scene, ViewLayer | Updating Lights\n",
            "Fra:1 Mem:12.11M (Peak 28.41M) | Time:00:00.32 | Mem:0.89M, Peak:0.89M | Scene, ViewLayer | Updating Lights | Computing distribution\n",
            "Fra:1 Mem:12.20M (Peak 28.41M) | Time:00:00.32 | Mem:0.98M, Peak:0.98M | Scene, ViewLayer | Updating Lights | Importance map\n",
            "Fra:1 Mem:76.23M (Peak 364.20M) | Time:00:00.67 | Mem:65.01M, Peak:224.98M | Scene, ViewLayer | Updating Integrator\n",
            "Fra:1 Mem:76.24M (Peak 364.20M) | Time:00:00.67 | Mem:65.01M, Peak:224.98M | Scene, ViewLayer | Updating Film\n",
            "Fra:1 Mem:76.24M (Peak 364.20M) | Time:00:00.67 | Mem:64.76M, Peak:224.98M | Scene, ViewLayer | Updating Lookup Tables\n",
            "Fra:1 Mem:76.24M (Peak 364.20M) | Time:00:00.67 | Mem:65.02M, Peak:224.98M | Scene, ViewLayer | Updating Baking\n",
            "Fra:1 Mem:76.24M (Peak 364.20M) | Time:00:00.67 | Mem:65.02M, Peak:224.98M | Scene, ViewLayer | Updating Device | Writing constant memory\n",
            "Fra:1 Mem:76.24M (Peak 364.20M) | Time:00:00.67 | Mem:65.02M, Peak:224.98M | Scene, ViewLayer | Loading denoising kernels (may take a few minutes the first time)\n",
            "Fra:1 Mem:80.24M (Peak 364.20M) | Time:00:00.68 | Mem:397.02M, Peak:397.02M | Scene, ViewLayer | Sample 0/17\n",
            "Fra:1 Mem:238.45M (Peak 364.20M) | Time:00:00.73 | Remaining:00:00.77 | Mem:555.22M, Peak:555.22M | Scene, ViewLayer | Sample 1/17\n",
            "Fra:1 Mem:357.11M (Peak 507.40M) | Time:00:19.99 | Mem:555.23M, Peak:555.23M | Scene, ViewLayer | Sample 17/17\n",
            "Fra:1 Mem:357.11M (Peak 507.40M) | Time:00:19.99 | Mem:555.23M, Peak:555.23M | Scene, ViewLayer | Finished\n",
            "Fra:1 Mem:129.34M (Peak 507.40M) | Time:00:20.10 | Compositing\n",
            "Fra:1 Mem:129.34M (Peak 507.40M) | Time:00:20.10 | Compositing | Determining resolution\n",
            "Fra:1 Mem:129.34M (Peak 507.40M) | Time:00:20.10 | Compositing | Initializing execution\n",
            "Fra:1 Mem:524.94M (Peak 576.58M) | Time:00:47.15 | Compositing | Tile 2-40\n",
            "Fra:1 Mem:524.94M (Peak 576.58M) | Time:00:47.15 | Compositing | Tile 1-40\n",
            "Fra:1 Mem:524.94M (Peak 576.58M) | Time:00:47.16 | Compositing | Tile 3-40\n",
            "Fra:1 Mem:524.94M (Peak 576.58M) | Time:00:47.16 | Compositing | Tile 4-40\n",
            "Fra:1 Mem:524.94M (Peak 576.58M) | Time:00:47.16 | Compositing | Tile 5-40\n",
            "Fra:1 Mem:524.94M (Peak 576.58M) | Time:00:47.16 | Compositing | Tile 6-40\n",
            "Fra:1 Mem:524.94M (Peak 576.58M) | Time:00:47.17 | Compositing | Tile 7-40\n",
            "Fra:1 Mem:524.94M (Peak 576.58M) | Time:00:47.17 | Compositing | Tile 8-40\n",
            "Fra:1 Mem:524.94M (Peak 576.58M) | Time:00:47.17 | Compositing | Tile 9-40\n",
            "Fra:1 Mem:524.94M (Peak 576.58M) | Time:00:47.17 | Compositing | Tile 10-40\n",
            "Fra:1 Mem:524.94M (Peak 576.58M) | Time:00:47.18 | Compositing | Tile 11-40\n",
            "Fra:1 Mem:524.94M (Peak 576.58M) | Time:00:47.18 | Compositing | Tile 12-40\n",
            "Fra:1 Mem:524.94M (Peak 576.58M) | Time:00:47.18 | Compositing | Tile 13-40\n",
            "Fra:1 Mem:524.94M (Peak 576.58M) | Time:00:47.18 | Compositing | Tile 14-40\n",
            "Fra:1 Mem:524.94M (Peak 576.58M) | Time:00:47.19 | Compositing | Tile 15-40\n",
            "Fra:1 Mem:524.94M (Peak 576.58M) | Time:00:47.19 | Compositing | Tile 16-40\n",
            "Fra:1 Mem:524.94M (Peak 576.58M) | Time:00:47.19 | Compositing | Tile 17-40\n",
            "Fra:1 Mem:524.94M (Peak 576.58M) | Time:00:47.19 | Compositing | Tile 18-40\n",
            "Fra:1 Mem:524.94M (Peak 576.58M) | Time:00:47.19 | Compositing | Tile 19-40\n",
            "Fra:1 Mem:524.94M (Peak 576.58M) | Time:00:47.20 | Compositing | Tile 20-40\n",
            "Fra:1 Mem:524.94M (Peak 576.58M) | Time:00:47.20 | Compositing | Tile 21-40\n",
            "Fra:1 Mem:524.94M (Peak 576.58M) | Time:00:47.20 | Compositing | Tile 22-40\n",
            "Fra:1 Mem:524.94M (Peak 576.58M) | Time:00:47.20 | Compositing | Tile 23-40\n",
            "Fra:1 Mem:524.94M (Peak 576.58M) | Time:00:47.20 | Compositing | Tile 24-40\n",
            "Fra:1 Mem:524.94M (Peak 576.58M) | Time:00:47.20 | Compositing | Tile 25-40\n",
            "Fra:1 Mem:524.94M (Peak 576.58M) | Time:00:47.21 | Compositing | Tile 26-40\n",
            "Fra:1 Mem:524.94M (Peak 576.58M) | Time:00:47.21 | Compositing | Tile 27-40\n",
            "Fra:1 Mem:524.94M (Peak 576.58M) | Time:00:47.21 | Compositing | Tile 28-40\n",
            "Fra:1 Mem:524.94M (Peak 576.58M) | Time:00:47.21 | Compositing | Tile 29-40\n",
            "Fra:1 Mem:524.94M (Peak 576.58M) | Time:00:47.21 | Compositing | Tile 30-40\n",
            "Fra:1 Mem:524.94M (Peak 576.58M) | Time:00:47.21 | Compositing | Tile 31-40\n",
            "Fra:1 Mem:524.94M (Peak 576.58M) | Time:00:47.21 | Compositing | Tile 32-40\n",
            "Fra:1 Mem:524.94M (Peak 576.58M) | Time:00:47.22 | Compositing | Tile 33-40\n",
            "Fra:1 Mem:524.94M (Peak 576.58M) | Time:00:47.22 | Compositing | Tile 34-40\n",
            "Fra:1 Mem:524.94M (Peak 576.58M) | Time:00:47.22 | Compositing | Tile 35-40\n",
            "Fra:1 Mem:524.94M (Peak 576.58M) | Time:00:47.22 | Compositing | Tile 36-40\n",
            "Fra:1 Mem:524.94M (Peak 576.58M) | Time:00:47.22 | Compositing | Tile 37-40\n",
            "Fra:1 Mem:524.94M (Peak 576.58M) | Time:00:47.23 | Compositing | Tile 38-40\n",
            "Fra:1 Mem:524.94M (Peak 576.58M) | Time:00:47.23 | Compositing | Tile 39-40\n",
            "Fra:1 Mem:524.93M (Peak 576.58M) | Time:00:47.23 | Compositing | Tile 40-40\n",
            "Fra:1 Mem:524.87M (Peak 576.58M) | Time:00:47.23 | Compositing | De-initializing execution\n",
            "Saved: '/content/output/cloud_01.png'\n",
            " Time: 00:47.88 (Saving: 00:00.63)\n",
            "\n",
            "\n",
            "Blender quit\n"
          ]
        }
      ],
      "source": [
        "%cd /content\n",
        "\n",
        "!rm -r output\n",
        "!mkdir output\n",
        "\n",
        "if not drive_output_path.endswith('/'):\n",
        "    drive_output_path += '/'\n",
        "\n",
        "if download_type != 'gdrive_direct':\n",
        "    output_path = '/content/output/' + output_name\n",
        "else:\n",
        "    output_path = '/drive/My Drive/' + drive_output_path + output_name\n",
        "\n",
        "%cd /content/$blender_version\n",
        "\n",
        "if animation:\n",
        "    if start_frame == end_frame:\n",
        "        !./$blender_version/blender -b '/content/render/{blend_file_path}' -P /content/setgpu.py -E CYCLES -o '{output_path}' -noaudio -a -- --cycles-device \"{renderer}\"\n",
        "    else:\n",
        "        !./$blender_version/blender -b '/content/render/{blend_file_path}' -P /content/setgpu.py -E CYCLES -o '{output_path}' -noaudio -s $start_frame -e $end_frame -a -- --cycles-device \"{renderer}\"\n",
        "else:\n",
        "    !./$blender_version/blender -b '/content/render/{blend_file_path}' -P /content/setgpu.py -E CYCLES -o '{output_path}' -noaudio -f $start_frame -- --cycles-device \"{renderer}\""
      ]
    },
    {
      "cell_type": "code",
      "execution_count": null,
      "metadata": {
        "id": "IjN_CFwEIB6f"
      },
      "outputs": [],
      "source": [
        "%cd /content\n",
        "\n",
        "path, dirs, files_folder = next(os.walk(\"output\"))\n",
        "output_folder_name = output_name.replace('#', '') + 'render'\n",
        "\n",
        "if download_type == 'gdrive_direct':\n",
        "    pass\n",
        "elif len(files_folder) == 1:\n",
        "    render_img = 'output/' + files_folder[0]\n",
        "    if download_type == 'direct':\n",
        "        files.download('output/' + files_folder[0])\n",
        "    else:\n",
        "        shutil.copy('/content/' + render_img, '/drive/My Drive/' + drive_output_path)\n",
        "elif len(files_folder) > 1:\n",
        "    if zip_files:\n",
        "        shutil.make_archive(output_folder_name, 'zip', 'output')\n",
        "    if download_type == 'direct':\n",
        "        files.download(output_folder_name + '.zip')\n",
        "    else:\n",
        "        shutil.copy('/content/' + output_folder_name + \".zip\", '/drive/My Drive/' + drive_output_path)\n",
        "elif download_type == 'direct':\n",
        "    for f in files_folder:\n",
        "        files.download('output/{}'.format(f))\n",
        "    # Drive, no zip\n",
        "    else:\n",
        "        for f in files_folder:\n",
        "          shutil.copy(\"/content/output/\" + f, '/drive/My Drive/' + drive_output_path + f)\n",
        "else:\n",
        "    raise SystemExit(\"No frames are rendered.\")"
      ]
    },
    {
      "cell_type": "markdown",
      "metadata": {
        "id": "IeNhVz4Uds_7"
      },
      "source": [
        "## Disclaimer\n",
        "Google Colab is targeted to researchers and students to run AI/ML tasks, data analysis and education, not rendering 3D scenes. Because the computing power provided are free, the usage limits, idle timeouts and speed of the rendering may varies time by time. [Colab Pro and Colab Pro+](https://colab.research.google.com/signup) are available for those who wanted to have more powerful GPU and longer runtimes for rendering. See the [FAQ](https://research.google.com/colaboratory/faq.html) for more info. In some cases, it might be faster to use an online Blender renderfarm.\n",
        "\n",
        "## License\n",
        "```\n",
        "MIT License\n",
        "\n",
        "Copyright (c) 2020-2022 ynshung\n",
        "\n",
        "Permission is hereby granted, free of charge, to any person obtaining a copy\n",
        "of this software and associated documentation files (the \"Software\"), to deal\n",
        "in the Software without restriction, including without limitation the rights\n",
        "to use, copy, modify, merge, publish, distribute, sublicense, and/or sell\n",
        "copies of the Software, and to permit persons to whom the Software is\n",
        "furnished to do so, subject to the following conditions:\n",
        "\n",
        "The above copyright notice and this permission notice shall be included in all\n",
        "copies or substantial portions of the Software.\n",
        "\n",
        "THE SOFTWARE IS PROVIDED \"AS IS\", WITHOUT WARRANTY OF ANY KIND, EXPRESS OR\n",
        "IMPLIED, INCLUDING BUT NOT LIMITED TO THE WARRANTIES OF MERCHANTABILITY,\n",
        "FITNESS FOR A PARTICULAR PURPOSE AND NONINFRINGEMENT. IN NO EVENT SHALL THE\n",
        "AUTHORS OR COPYRIGHT HOLDERS BE LIABLE FOR ANY CLAIM, DAMAGES OR OTHER\n",
        "LIABILITY, WHETHER IN AN ACTION OF CONTRACT, TORT OR OTHERWISE, ARISING FROM,\n",
        "OUT OF OR IN CONNECTION WITH THE SOFTWARE OR THE USE OR OTHER DEALINGS IN THE\n",
        "SOFTWARE.\n",
        "```"
      ]
    }
  ],
  "metadata": {
    "accelerator": "GPU",
    "colab": {
      "provenance": [],
      "include_colab_link": true
    },
    "kernelspec": {
      "display_name": "Python 3",
      "language": "python",
      "name": "python3"
    },
    "language_info": {
      "codemirror_mode": {
        "name": "ipython",
        "version": 3
      },
      "file_extension": ".py",
      "mimetype": "text/x-python",
      "name": "python",
      "nbconvert_exporter": "python",
      "pygments_lexer": "ipython3",
      "version": "3.7.4"
    }
  },
  "nbformat": 4,
  "nbformat_minor": 0
}